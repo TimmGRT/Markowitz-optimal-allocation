{
 "cells": [
  {
   "cell_type": "code",
   "execution_count": 2,
   "metadata": {
    "executionInfo": {
     "elapsed": 4184,
     "status": "ok",
     "timestamp": 1756370853864,
     "user": {
      "displayName": "Timéo Grienti",
      "userId": "11811242489653695893"
     },
     "user_tz": -120
    },
    "id": "zy4BVMCBslqO"
   },
   "outputs": [],
   "source": [
    "import yfinance as yf\n",
    "import pandas as pd"
   ]
  },
  {
   "cell_type": "code",
   "execution_count": 2,
   "metadata": {
    "executionInfo": {
     "elapsed": 40,
     "status": "ok",
     "timestamp": 1756370856739,
     "user": {
      "displayName": "Timéo Grienti",
      "userId": "11811242489653695893"
     },
     "user_tz": -120
    },
    "id": "genCFol6Cynl"
   },
   "outputs": [],
   "source": [
    "# Grace au scrapping grace a chatgpt :\n",
    "\n",
    "SNP = ['MMM', 'AOS', 'ABT', 'ABBV', 'ACN', 'ADBE', 'AMD', 'AES', 'AFL', 'A', 'APD', 'ABNB', 'AKAM', 'ALB', 'ARE', 'ALGN', 'ALLE', 'LNT', 'ALL', 'GOOGL', 'GOOG', 'MO', 'AMZN', 'AMCR', 'AEE', 'AEP', 'AXP', 'AIG', 'AMT', 'AWK', 'AMP', 'AME', 'AMGN', 'APH', 'ADI', 'AON', 'APA', 'APO', 'AAPL', 'AMAT', 'APTV', 'ACGL', 'ADM', 'ANET', 'AJG', 'AIZ', 'T', 'ATO', 'ADSK', 'ADP', 'AZO', 'AVB', 'AVY', 'AXON', 'BKR', 'BALL', 'BAC', 'BAX', 'BDX', 'BRK.B', 'BBY', 'TECH', 'BIIB', 'BLK', 'BX', 'XYZ', 'BK', 'BA', 'BKNG', 'BSX', 'BMY', 'AVGO', 'BR', 'BRO', 'BF.B', 'BLDR', 'BG', 'BXP', 'CHRW', 'CDNS', 'CZR', 'CPT', 'CPB', 'COF', 'CAH', 'KMX', 'CCL', 'CARR', 'CAT', 'CBOE', 'CBRE', 'CDW', 'COR', 'CNC', 'CNP', 'CF', 'CRL', 'SCHW', 'CHTR', 'CVX', 'CMG', 'CB', 'CHD', 'CI', 'CINF', 'CTAS', 'CSCO', 'C', 'CFG', 'CLX', 'CME', 'CMS', 'KO', 'CTSH', 'COIN', 'CL', 'CMCSA', 'CAG', 'COP', 'ED', 'STZ', 'CEG', 'COO', 'CPRT', 'GLW', 'CPAY', 'CTVA', 'CSGP', 'COST', 'CTRA', 'CRWD', 'CCI', 'CSX', 'CMI', 'CVS', 'DHR', 'DRI', 'DDOG', 'DVA', 'DAY', 'DECK', 'DE', 'DELL', 'DAL', 'DVN', 'DXCM', 'FANG', 'DLR', 'DG', 'DLTR', 'D', 'DPZ', 'DASH', 'DOV', 'DOW', 'DHI', 'DTE', 'DUK', 'DD', 'EMN', 'ETN', 'EBAY', 'ECL', 'EIX', 'EW', 'EA', 'ELV', 'EMR', 'ENPH', 'ETR', 'EOG', 'EPAM', 'EQT', 'EFX', 'EQIX', 'EQR', 'ERIE', 'ESS', 'EL', 'EG', 'EVRG', 'ES', 'EXC', 'EXE', 'EXPE', 'EXPD', 'EXR', 'XOM', 'FFIV', 'FDS', 'FICO', 'FAST', 'FRT', 'FDX', 'FIS', 'FITB', 'FSLR', 'FE', 'FI', 'F', 'FTNT', 'FTV', 'FOXA', 'FOX', 'BEN', 'FCX', 'GRMN', 'IT', 'GE', 'GEHC', 'GEV', 'GEN', 'GNRC', 'GD', 'GIS', 'GM', 'GPC', 'GILD', 'GPN', 'GL', 'GDDY', 'GS', 'HAL', 'HIG', 'HAS', 'HCA', 'DOC', 'HSIC', 'HSY', 'HPE', 'HLT', 'HOLX', 'HD', 'HON', 'HRL', 'HST', 'HWM', 'HPQ', 'HUBB', 'HUM', 'HBAN', 'HII', 'IBM', 'IEX', 'IDXX', 'ITW', 'INCY', 'IR', 'PODD', 'INTC', 'IBKR', 'ICE', 'IFF', 'IP', 'IPG', 'INTU', 'ISRG', 'IVZ', 'INVH', 'IQV', 'IRM', 'JBHT', 'JBL', 'JKHY', 'J', 'JNJ', 'JCI', 'JPM', 'K', 'KVUE', 'KDP', 'KEY', 'KEYS', 'KMB', 'KIM', 'KMI', 'KKR', 'KLAC', 'KHC', 'KR', 'LHX', 'LH', 'LRCX', 'LW', 'LVS', 'LDOS', 'LEN', 'LII', 'LLY', 'LIN', 'LYV', 'LKQ', 'LMT', 'L', 'LOW', 'LULU', 'LYB', 'MTB', 'MPC', 'MKTX', 'MAR', 'MMC', 'MLM', 'MAS', 'MA', 'MTCH', 'MKC', 'MCD', 'MCK', 'MDT', 'MRK', 'META', 'MET', 'MTD', 'MGM', 'MCHP', 'MU', 'MSFT', 'MAA', 'MRNA', 'MHK', 'MOH', 'TAP', 'MDLZ', 'MPWR', 'MNST', 'MCO', 'MS', 'MOS', 'MSI', 'MSCI', 'NDAQ', 'NTAP', 'NFLX', 'NEM', 'NWSA', 'NWS', 'NEE', 'NKE', 'NI', 'NDSN', 'NSC', 'NTRS', 'NOC', 'NCLH', 'NRG', 'NUE', 'NVDA', 'NVR', 'NXPI', 'ORLY', 'OXY', 'ODFL', 'OMC', 'ON', 'OKE', 'ORCL', 'OTIS', 'PCAR', 'PKG', 'PLTR', 'PANW', 'PSKY', 'PH', 'PAYX', 'PAYC', 'PYPL', 'PNR', 'PEP', 'PFE', 'PCG', 'PM', 'PSX', 'PNW', 'PNC', 'POOL', 'PPG', 'PPL', 'PFG', 'PG', 'PGR', 'PLD', 'PRU', 'PEG', 'PTC', 'PSA', 'PHM', 'PWR', 'QCOM', 'DGX', 'RL', 'RJF', 'RTX', 'O', 'REG', 'REGN', 'RF', 'RSG', 'RMD', 'RVTY', 'ROK', 'ROL', 'ROP', 'ROST', 'RCL', 'SPGI', 'CRM', 'SBAC', 'SLB', 'STX', 'SRE', 'NOW', 'SHW', 'SPG', 'SWKS', 'SJM', 'SW', 'SNA', 'SOLV', 'SO', 'LUV', 'SWK', 'SBUX', 'STT', 'STLD', 'STE', 'SYK', 'SMCI', 'SYF', 'SNPS', 'SYY', 'TMUS', 'TROW', 'TTWO', 'TPR', 'TRGP', 'TGT', 'TEL', 'TDY', 'TER', 'TSLA', 'TXN', 'TPL', 'TXT', 'TMO', 'TJX', 'TKO', 'TTD', 'TSCO', 'TT', 'TDG', 'TRV', 'TRMB', 'TFC', 'TYL', 'TSN', 'USB', 'UBER', 'UDR', 'ULTA', 'UNP', 'UAL', 'UPS', 'URI', 'UNH', 'UHS', 'VLO', 'VTR', 'VLTO', 'VRSN', 'VRSK', 'VZ', 'VRTX', 'VTRS', 'VICI', 'V', 'VST', 'VMC', 'WRB', 'GWW', 'WAB', 'WBA', 'WMT', 'DIS', 'WBD', 'WM', 'WAT', 'WEC', 'WFC', 'WELL', 'WST', 'WDC', 'WY', 'WSM', 'WMB', 'WTW', 'WDAY', 'WYNN', 'XEL', 'XYL', 'YUM', 'ZBRA', 'ZBH', 'ZTS']\n",
    "CAC_40 = [\"AC.PA\",\"AI.PA\",\"AIR.PA\",\"MT.AS\",\"CS.PA\",\"BNP.PA\",\"EN.PA\",\"BVI.PA\",\"CAP.PA\",\"CA.PA\",\"ACA.PA\",\"BN.PA\",\"DSY.PA\",\"EDEN.PA\",\"ENGI.PA\",\"EL.PA\",\"ERF.PA\",\"RMS.PA\",\"KER.PA\",\"OR.PA\",\"LR.PA\",\"MC.PA\",\"ML.PA\",\"ORA.PA\",\"RI.PA\",\"PUB.PA\",\"RNO.PA\",\"SAF.PA\",\"SGO.PA\",\"SAN.PA\",\"SU.PA\",\"GLE.PA\",\"STLAP.PA\",\"STMPA.PA\",\"TEP.PA\",\"HO.PA\",\"TTE.PA\",\"URW.PA\",\"VIE.PA\",\"DG.PA\"]\n",
    "\n",
    "Indexlist = {\"SNP\": SNP,\n",
    "             \"CAC40\": CAC_40}"
   ]
  },
  {
   "cell_type": "code",
   "execution_count": 3,
   "metadata": {
    "colab": {
     "base_uri": "https://localhost:8080/",
     "height": 1000
    },
    "executionInfo": {
     "elapsed": 1690,
     "status": "ok",
     "timestamp": 1756370861687,
     "user": {
      "displayName": "Timéo Grienti",
      "userId": "11811242489653695893"
     },
     "user_tz": -120
    },
    "id": "RmRve7y7OCUD",
    "outputId": "9a8c4c8d-cfbe-4c19-943d-abffef877f17"
   },
   "outputs": [
    {
     "name": "stderr",
     "output_type": "stream",
     "text": [
      "/var/folders/xf/kj8y5r0s4_j70mtfdlcxy5km0000gn/T/ipykernel_81799/2127346732.py:44: FutureWarning: YF.download() has changed argument auto_adjust default to True\n",
      "  idata = yf.download( ticker, i , T , interval)\n",
      "[*********************100%***********************]  1 of 1 completed\n",
      "/var/folders/xf/kj8y5r0s4_j70mtfdlcxy5km0000gn/T/ipykernel_81799/2127346732.py:44: FutureWarning: YF.download() has changed argument auto_adjust default to True\n",
      "  idata = yf.download( ticker, i , T , interval)\n",
      "[*********************100%***********************]  1 of 1 completed\n",
      "/var/folders/xf/kj8y5r0s4_j70mtfdlcxy5km0000gn/T/ipykernel_81799/2127346732.py:44: FutureWarning: YF.download() has changed argument auto_adjust default to True\n",
      "  idata = yf.download( ticker, i , T , interval)\n",
      "[*********************100%***********************]  1 of 1 completed\n",
      "/var/folders/xf/kj8y5r0s4_j70mtfdlcxy5km0000gn/T/ipykernel_81799/2127346732.py:44: FutureWarning: YF.download() has changed argument auto_adjust default to True\n",
      "  idata = yf.download( ticker, i , T , interval)\n",
      "[*********************100%***********************]  1 of 1 completed\n",
      "/var/folders/xf/kj8y5r0s4_j70mtfdlcxy5km0000gn/T/ipykernel_81799/2127346732.py:44: FutureWarning: YF.download() has changed argument auto_adjust default to True\n",
      "  idata = yf.download( ticker, i , T , interval)\n",
      "[*********************100%***********************]  1 of 1 completed\n"
     ]
    },
    {
     "data": {
      "text/html": [
       "<div>\n",
       "<style scoped>\n",
       "    .dataframe tbody tr th:only-of-type {\n",
       "        vertical-align: middle;\n",
       "    }\n",
       "\n",
       "    .dataframe tbody tr th {\n",
       "        vertical-align: top;\n",
       "    }\n",
       "\n",
       "    .dataframe thead th {\n",
       "        text-align: right;\n",
       "    }\n",
       "</style>\n",
       "<table border=\"1\" class=\"dataframe\">\n",
       "  <thead>\n",
       "    <tr style=\"text-align: right;\">\n",
       "      <th></th>\n",
       "      <th>AAPL</th>\n",
       "      <th>BTC-USD</th>\n",
       "      <th>NVDA</th>\n",
       "      <th>ETH-USD</th>\n",
       "      <th>GC=F</th>\n",
       "    </tr>\n",
       "    <tr>\n",
       "      <th>Date</th>\n",
       "      <th></th>\n",
       "      <th></th>\n",
       "      <th></th>\n",
       "      <th></th>\n",
       "      <th></th>\n",
       "    </tr>\n",
       "  </thead>\n",
       "  <tbody>\n",
       "    <tr>\n",
       "      <th>2021-09-07</th>\n",
       "      <td>153.395447</td>\n",
       "      <td>46811.128906</td>\n",
       "      <td>22.617950</td>\n",
       "      <td>3426.394287</td>\n",
       "      <td>1795.900024</td>\n",
       "    </tr>\n",
       "    <tr>\n",
       "      <th>2021-09-08</th>\n",
       "      <td>151.848709</td>\n",
       "      <td>46091.390625</td>\n",
       "      <td>22.295582</td>\n",
       "      <td>3497.315186</td>\n",
       "      <td>1790.699951</td>\n",
       "    </tr>\n",
       "    <tr>\n",
       "      <th>2021-09-09</th>\n",
       "      <td>150.830582</td>\n",
       "      <td>46391.421875</td>\n",
       "      <td>22.133898</td>\n",
       "      <td>3427.340088</td>\n",
       "      <td>1797.400024</td>\n",
       "    </tr>\n",
       "    <tr>\n",
       "      <th>2021-09-10</th>\n",
       "      <td>145.837769</td>\n",
       "      <td>44883.910156</td>\n",
       "      <td>22.434309</td>\n",
       "      <td>3211.505859</td>\n",
       "      <td>1789.599976</td>\n",
       "    </tr>\n",
       "    <tr>\n",
       "      <th>2021-09-13</th>\n",
       "      <td>146.405594</td>\n",
       "      <td>44963.074219</td>\n",
       "      <td>22.108946</td>\n",
       "      <td>3285.511719</td>\n",
       "      <td>1792.000000</td>\n",
       "    </tr>\n",
       "    <tr>\n",
       "      <th>...</th>\n",
       "      <td>...</td>\n",
       "      <td>...</td>\n",
       "      <td>...</td>\n",
       "      <td>...</td>\n",
       "      <td>...</td>\n",
       "    </tr>\n",
       "    <tr>\n",
       "      <th>2025-08-27</th>\n",
       "      <td>230.490005</td>\n",
       "      <td>111222.062500</td>\n",
       "      <td>181.600006</td>\n",
       "      <td>4503.393066</td>\n",
       "      <td>3404.600098</td>\n",
       "    </tr>\n",
       "    <tr>\n",
       "      <th>2025-08-28</th>\n",
       "      <td>232.559998</td>\n",
       "      <td>112544.804688</td>\n",
       "      <td>180.169998</td>\n",
       "      <td>4507.177734</td>\n",
       "      <td>3431.800049</td>\n",
       "    </tr>\n",
       "    <tr>\n",
       "      <th>2025-08-29</th>\n",
       "      <td>232.139999</td>\n",
       "      <td>108410.835938</td>\n",
       "      <td>174.179993</td>\n",
       "      <td>4360.152832</td>\n",
       "      <td>3473.699951</td>\n",
       "    </tr>\n",
       "    <tr>\n",
       "      <th>2025-09-02</th>\n",
       "      <td>229.720001</td>\n",
       "      <td>111200.585938</td>\n",
       "      <td>170.779999</td>\n",
       "      <td>4325.365723</td>\n",
       "      <td>3549.399902</td>\n",
       "    </tr>\n",
       "    <tr>\n",
       "      <th>2025-09-03</th>\n",
       "      <td>238.470001</td>\n",
       "      <td>111723.210938</td>\n",
       "      <td>170.619995</td>\n",
       "      <td>4450.389160</td>\n",
       "      <td>3593.199951</td>\n",
       "    </tr>\n",
       "  </tbody>\n",
       "</table>\n",
       "<p>1002 rows × 5 columns</p>\n",
       "</div>"
      ],
      "text/plain": [
       "                  AAPL        BTC-USD        NVDA      ETH-USD         GC=F\n",
       "Date                                                                       \n",
       "2021-09-07  153.395447   46811.128906   22.617950  3426.394287  1795.900024\n",
       "2021-09-08  151.848709   46091.390625   22.295582  3497.315186  1790.699951\n",
       "2021-09-09  150.830582   46391.421875   22.133898  3427.340088  1797.400024\n",
       "2021-09-10  145.837769   44883.910156   22.434309  3211.505859  1789.599976\n",
       "2021-09-13  146.405594   44963.074219   22.108946  3285.511719  1792.000000\n",
       "...                ...            ...         ...          ...          ...\n",
       "2025-08-27  230.490005  111222.062500  181.600006  4503.393066  3404.600098\n",
       "2025-08-28  232.559998  112544.804688  180.169998  4507.177734  3431.800049\n",
       "2025-08-29  232.139999  108410.835938  174.179993  4360.152832  3473.699951\n",
       "2025-09-02  229.720001  111200.585938  170.779999  4325.365723  3549.399902\n",
       "2025-09-03  238.470001  111723.210938  170.619995  4450.389160  3593.199951\n",
       "\n",
       "[1002 rows x 5 columns]"
      ]
     },
     "metadata": {},
     "output_type": "display_data"
    }
   ],
   "source": [
    "from datetime import date\n",
    "import re\n",
    "\n",
    "#timeframe = input(\"time frame = CT, CT-MT, MT, LT ?\")\n",
    "\n",
    "def data(timeframe, product):\n",
    "\n",
    "  tickers_list = []\n",
    "  if isinstance(product, str) and product in Indexlist:\n",
    "    tickers_list = Indexlist[product]\n",
    "  elif isinstance(product, str):\n",
    "    tickers_list = [product]\n",
    "  elif isinstance(product, list):\n",
    "    tickers_list = product\n",
    "  else:\n",
    "    print(\"Ce type de ticker n'est pas soutenu par le progrtamme\")\n",
    "    return None, timeframe, product\n",
    "\n",
    "\n",
    "  i = None\n",
    "  T = date.today()\n",
    "  interval = None\n",
    "\n",
    "  if timeframe == \"CT\":\n",
    "    i = f\"{T.year}-{T.month}-{T.day-5}\"\n",
    "    interval = \"1sec\"\n",
    "  elif timeframe == \"CT-MT\":\n",
    "    i = f\"{T.year}-{T.month-5}-{T.day}\"\n",
    "    interval = \"1min\"\n",
    "  elif timeframe == \"MT\":\n",
    "    i = f\"{T.year-4}-{T.month}-{T.day}\"\n",
    "    interval = \"1h\"\n",
    "  elif timeframe == \"LT\":\n",
    "    i = f\"{T.year-10}-{T.month}-{T.day}\"\n",
    "    interval = \"1d\"\n",
    "  else:\n",
    "    print(\"This timeframe is not possible\")\n",
    "    return None, timeframe, product\n",
    "\n",
    "  data_df = pd.DataFrame()\n",
    "\n",
    "  if tickers_list and i and interval:\n",
    "    for ticker in tickers_list:\n",
    "      idata = yf.download( ticker, i , T , interval)\n",
    "      data_df[ticker] = idata[\"Close\"]\n",
    "\n",
    "  return data_df, timeframe, product\n",
    "\n",
    "\n",
    "data_df, timeframe_val, product_val = data(\"MT\",[\"AAPL\", \"BTC-USD\", \"NVDA\", \"ETH-USD\", \"GC=F\"])\n",
    "\n",
    "\n",
    "# VERIF SI LE DF EST CORRECT\n",
    "if data_df is not None and not data_df.empty:\n",
    "    display(data_df)\n",
    "else:\n",
    "    print(\"Could not retrieve data for the specified timeframe and product.\")\n",
    "\n"
   ]
  },
  {
   "cell_type": "code",
   "execution_count": 30,
   "metadata": {
    "colab": {
     "base_uri": "https://localhost:8080/",
     "height": 17
    },
    "executionInfo": {
     "elapsed": 513,
     "status": "ok",
     "timestamp": 1756360579643,
     "user": {
      "displayName": "Timéo Grienti",
      "userId": "11811242489653695893"
     },
     "user_tz": -120
    },
    "id": "beDD2gEgul2K",
    "outputId": "b13ae746-3950-4c1b-8299-04b7fae74898"
   },
   "outputs": [],
   "source": [
    "data_df.to_excel(f\"/Users/timeogrienti/Desktop/PYTHON FOR QT/I. DATA/Ressources/{product_val}_{timeframe_val}_{date.today()}.xlsx\", engine=\"openpyxl\")"
   ]
  },
  {
   "cell_type": "markdown",
   "metadata": {
    "id": "1km63OJk7lDW"
   },
   "source": [
    "**PREPARATION DES VECTEUR POUR MARKOWITZ VIA PROGRAMATION QUADRATIQUE**\n"
   ]
  },
  {
   "cell_type": "code",
   "execution_count": 31,
   "metadata": {
    "id": "uQrB2L-M-1A_"
   },
   "outputs": [],
   "source": [
    "import yfinance as yf\n",
    "import pandas as pd\n",
    "\n",
    "data = pd.read_excel(\"/Users/timeogrienti/Desktop/PYTHON FOR QT/I. DATA/Ressources/['AAPL', 'BTC-USD', 'NVDA', 'ETH-USD', 'GC=F']_MT_2025-09-03.xlsx\")\n"
   ]
  },
  {
   "cell_type": "code",
   "execution_count": null,
   "metadata": {
    "id": "KiqGKg6H865L"
   },
   "outputs": [],
   "source": [
    "# Trouver les top rentabilités global sur la durée\n"
   ]
  },
  {
   "cell_type": "code",
   "execution_count": 41,
   "metadata": {
    "colab": {
     "base_uri": "https://localhost:8080/"
    },
    "collapsed": true,
    "executionInfo": {
     "elapsed": 225,
     "status": "ok",
     "timestamp": 1756308284740,
     "user": {
      "displayName": "Timéo Grienti",
      "userId": "11811242489653695893"
     },
     "user_tz": -120
    },
    "id": "ctSDnkflzQeX",
    "outputId": "bb03d816-70d3-464a-a5ba-63d9b2c2df6e"
   },
   "outputs": [
    {
     "name": "stdout",
     "output_type": "stream",
     "text": [
      "[[ 3.27978919e-04  1.86108363e-04  3.34626596e-04  2.77144734e-04\n",
      "  -3.01751252e-07]\n",
      " [ 1.86108363e-04  1.18695562e-03  3.88167769e-04  1.29266012e-03\n",
      "   2.63167832e-05]\n",
      " [ 3.34626596e-04  3.88167769e-04  1.20085398e-03  5.51832671e-04\n",
      "   3.65104007e-06]\n",
      " [ 2.77144734e-04  1.29266012e-03  5.51832671e-04  2.01831021e-03\n",
      "   2.51517373e-05]\n",
      " [-3.01751252e-07  2.63167832e-05  3.65104007e-06  2.51517373e-05\n",
      "   9.44534437e-05]]\n"
     ]
    }
   ],
   "source": [
    "import numpy as np\n",
    "import pandas as pd\n",
    "\n",
    "\n",
    "avg_return = []\n",
    "variance = pd.DataFrame()\n",
    "cov = pd.DataFrame()\n",
    "\n",
    "tickers = data.columns.to_list()\n",
    "\n",
    "df = pd.DataFrame()\n",
    "for a in tickers:\n",
    "  df[a] = data[a]\n",
    "\n",
    "# CREATION DU DF DES RENTAB\n",
    "rentab = pd.DataFrame()\n",
    "\n",
    "for a in tickers:\n",
    "    if a == \"Date\":\n",
    "        continue\n",
    "    rentab_list = []\n",
    "    for t in range(len(df[a]) - 1):  # Use len(df[a]) - 1 to avoid out-of-bounds\n",
    "        r = (df[a].iloc[t+1] - df[a].iloc[t]) / df[a].iloc[t]\n",
    "        rentab_list.append(r)\n",
    "    rentab[a] = rentab_list\n",
    "    \n",
    "\n",
    "# # MATRICES\n",
    "mu = np.array(rentab.mean()).reshape(-1,1)\n",
    "cov = np.array(rentab.cov())\n",
    "\n",
    "print(cov)"
   ]
  },
  {
   "cell_type": "code",
   "execution_count": 42,
   "metadata": {
    "colab": {
     "base_uri": "https://localhost:8080/"
    },
    "executionInfo": {
     "elapsed": 15,
     "status": "ok",
     "timestamp": 1756308290406,
     "user": {
      "displayName": "Timéo Grienti",
      "userId": "11811242489653695893"
     },
     "user_tz": -120
    },
    "id": "XB_BG5I1-qfR",
    "outputId": "279fe3c8-b3e7-4148-d080-447397dda211"
   },
   "outputs": [
    {
     "name": "stdout",
     "output_type": "stream",
     "text": [
      "[[ 1.          0.29828107  0.53320276  0.34063534 -0.00171442]\n",
      " [ 0.29828107  1.          0.32513007  0.83516667  0.07859713]\n",
      " [ 0.53320276  0.32513007  1.          0.35446091  0.01084083]\n",
      " [ 0.34063534  0.83516667  0.35446091  1.          0.05760566]\n",
      " [-0.00171442  0.07859713  0.01084083  0.05760566  1.        ]]\n"
     ]
    }
   ],
   "source": [
    "#MATRICES DE COVARIANCES POUR INTERPRETATION\n",
    "sigma = np.sqrt(np.diag(cov))\n",
    "corr = cov / np.outer(sigma, sigma)\n",
    "print(corr)"
   ]
  },
  {
   "cell_type": "markdown",
   "metadata": {
    "id": "RFNOi59S_RL8"
   },
   "source": [
    "**MARKOWITZ - FRONTIERE EFFICIENTE**\n"
   ]
  },
  {
   "cell_type": "code",
   "execution_count": 44,
   "metadata": {
    "colab": {
     "base_uri": "https://localhost:8080/",
     "height": 678
    },
    "executionInfo": {
     "elapsed": 328,
     "status": "ok",
     "timestamp": 1756308982422,
     "user": {
      "displayName": "Timéo Grienti",
      "userId": "11811242489653695893"
     },
     "user_tz": -120
    },
    "id": "AKK624Pc_aKg",
    "outputId": "d7fb19e1-82d1-4ae1-9ae0-0e3ff105bb36"
   },
   "outputs": [
    {
     "data": {
      "text/html": [
       "<div>\n",
       "<style scoped>\n",
       "    .dataframe tbody tr th:only-of-type {\n",
       "        vertical-align: middle;\n",
       "    }\n",
       "\n",
       "    .dataframe tbody tr th {\n",
       "        vertical-align: top;\n",
       "    }\n",
       "\n",
       "    .dataframe thead th {\n",
       "        text-align: right;\n",
       "    }\n",
       "</style>\n",
       "<table border=\"1\" class=\"dataframe\">\n",
       "  <thead>\n",
       "    <tr style=\"text-align: right;\">\n",
       "      <th></th>\n",
       "      <th>E(return)</th>\n",
       "      <th>vol</th>\n",
       "      <th>Date</th>\n",
       "      <th>AAPL</th>\n",
       "      <th>BTC-USD</th>\n",
       "      <th>NVDA</th>\n",
       "      <th>ETH-USD</th>\n",
       "    </tr>\n",
       "  </thead>\n",
       "  <tbody>\n",
       "    <tr>\n",
       "      <th>0</th>\n",
       "      <td>0.000582</td>\n",
       "      <td>0.008635</td>\n",
       "      <td>0.283341</td>\n",
       "      <td>0.024451</td>\n",
       "      <td>-0.053008</td>\n",
       "      <td>-0.017870</td>\n",
       "      <td>0.763086</td>\n",
       "    </tr>\n",
       "    <tr>\n",
       "      <th>1</th>\n",
       "      <td>0.000602</td>\n",
       "      <td>0.008591</td>\n",
       "      <td>0.272817</td>\n",
       "      <td>0.028589</td>\n",
       "      <td>-0.043819</td>\n",
       "      <td>-0.020783</td>\n",
       "      <td>0.763196</td>\n",
       "    </tr>\n",
       "    <tr>\n",
       "      <th>2</th>\n",
       "      <td>0.000623</td>\n",
       "      <td>0.008557</td>\n",
       "      <td>0.262294</td>\n",
       "      <td>0.032727</td>\n",
       "      <td>-0.034631</td>\n",
       "      <td>-0.023696</td>\n",
       "      <td>0.763306</td>\n",
       "    </tr>\n",
       "    <tr>\n",
       "      <th>3</th>\n",
       "      <td>0.000643</td>\n",
       "      <td>0.008532</td>\n",
       "      <td>0.251770</td>\n",
       "      <td>0.036865</td>\n",
       "      <td>-0.025442</td>\n",
       "      <td>-0.026609</td>\n",
       "      <td>0.763416</td>\n",
       "    </tr>\n",
       "    <tr>\n",
       "      <th>4</th>\n",
       "      <td>0.000664</td>\n",
       "      <td>0.008516</td>\n",
       "      <td>0.241247</td>\n",
       "      <td>0.041003</td>\n",
       "      <td>-0.016254</td>\n",
       "      <td>-0.029522</td>\n",
       "      <td>0.763525</td>\n",
       "    </tr>\n",
       "    <tr>\n",
       "      <th>...</th>\n",
       "      <td>...</td>\n",
       "      <td>...</td>\n",
       "      <td>...</td>\n",
       "      <td>...</td>\n",
       "      <td>...</td>\n",
       "      <td>...</td>\n",
       "      <td>...</td>\n",
       "    </tr>\n",
       "    <tr>\n",
       "      <th>95</th>\n",
       "      <td>0.002525</td>\n",
       "      <td>0.026803</td>\n",
       "      <td>-0.716380</td>\n",
       "      <td>0.417565</td>\n",
       "      <td>0.819887</td>\n",
       "      <td>-0.294599</td>\n",
       "      <td>0.773527</td>\n",
       "    </tr>\n",
       "    <tr>\n",
       "      <th>96</th>\n",
       "      <td>0.002545</td>\n",
       "      <td>0.027072</td>\n",
       "      <td>-0.726903</td>\n",
       "      <td>0.421704</td>\n",
       "      <td>0.829075</td>\n",
       "      <td>-0.297512</td>\n",
       "      <td>0.773637</td>\n",
       "    </tr>\n",
       "    <tr>\n",
       "      <th>97</th>\n",
       "      <td>0.002566</td>\n",
       "      <td>0.027341</td>\n",
       "      <td>-0.737427</td>\n",
       "      <td>0.425842</td>\n",
       "      <td>0.838264</td>\n",
       "      <td>-0.300425</td>\n",
       "      <td>0.773746</td>\n",
       "    </tr>\n",
       "    <tr>\n",
       "      <th>98</th>\n",
       "      <td>0.002586</td>\n",
       "      <td>0.027610</td>\n",
       "      <td>-0.747950</td>\n",
       "      <td>0.429980</td>\n",
       "      <td>0.847452</td>\n",
       "      <td>-0.303338</td>\n",
       "      <td>0.773856</td>\n",
       "    </tr>\n",
       "    <tr>\n",
       "      <th>99</th>\n",
       "      <td>0.002607</td>\n",
       "      <td>0.027879</td>\n",
       "      <td>-0.758474</td>\n",
       "      <td>0.434118</td>\n",
       "      <td>0.856640</td>\n",
       "      <td>-0.306251</td>\n",
       "      <td>0.773966</td>\n",
       "    </tr>\n",
       "  </tbody>\n",
       "</table>\n",
       "<p>100 rows × 7 columns</p>\n",
       "</div>"
      ],
      "text/plain": [
       "    E(return)       vol      Date      AAPL   BTC-USD      NVDA   ETH-USD\n",
       "0    0.000582  0.008635  0.283341  0.024451 -0.053008 -0.017870  0.763086\n",
       "1    0.000602  0.008591  0.272817  0.028589 -0.043819 -0.020783  0.763196\n",
       "2    0.000623  0.008557  0.262294  0.032727 -0.034631 -0.023696  0.763306\n",
       "3    0.000643  0.008532  0.251770  0.036865 -0.025442 -0.026609  0.763416\n",
       "4    0.000664  0.008516  0.241247  0.041003 -0.016254 -0.029522  0.763525\n",
       "..        ...       ...       ...       ...       ...       ...       ...\n",
       "95   0.002525  0.026803 -0.716380  0.417565  0.819887 -0.294599  0.773527\n",
       "96   0.002545  0.027072 -0.726903  0.421704  0.829075 -0.297512  0.773637\n",
       "97   0.002566  0.027341 -0.737427  0.425842  0.838264 -0.300425  0.773746\n",
       "98   0.002586  0.027610 -0.747950  0.429980  0.847452 -0.303338  0.773856\n",
       "99   0.002607  0.027879 -0.758474  0.434118  0.856640 -0.306251  0.773966\n",
       "\n",
       "[100 rows x 7 columns]"
      ]
     },
     "metadata": {},
     "output_type": "display_data"
    },
    {
     "data": {
      "text/plain": [
       "E(return)    0.000582\n",
       "vol          0.008635\n",
       "Date         0.283341\n",
       "AAPL         0.024451\n",
       "BTC-USD     -0.053008\n",
       "NVDA        -0.017870\n",
       "ETH-USD      0.763086\n",
       "Name: 0, dtype: float64"
      ]
     },
     "metadata": {},
     "output_type": "display_data"
    }
   ],
   "source": [
    "import numpy as np\n",
    "import matplotlib.pyplot as plt\n",
    "import pandas as pd\n",
    "\n",
    "cov_inv = np.linalg.inv(cov) # Corrected variable name from cov_np to cov\n",
    "ones = np.ones((len(mu), 1))\n",
    "\n",
    "\n",
    "A = ones.T @ cov_inv @ ones\n",
    "B = ones.T @ cov_inv @ mu\n",
    "C = mu.T @ cov_inv @ mu\n",
    "D = A * C - B**2\n",
    "\n",
    "min_asset_return = mu.min()\n",
    "max_asset_return = mu.max()\n",
    "n_points = 100\n",
    "mu_cible = np.linspace(min_asset_return, max_asset_return, n_points)\n",
    "\n",
    "efficient_portfolio_returns = []\n",
    "efficient_portfolio_risks = []\n",
    "\n",
    "comp = pd.DataFrame()\n",
    "\n",
    "for a in range(len(mu_cible)):\n",
    "\n",
    "    mu_b = mu_cible[a]\n",
    "    w = (cov_inv @ ones * (C - mu_b * B) + cov_inv @ mu * (mu_b * A - B)) / D\n",
    "    w = w.flatten()\n",
    "\n",
    "    # E(Return)\n",
    "    expected_return = np.dot(w, mu)\n",
    "\n",
    "    # Risk\n",
    "    portfolio_variance = w.T @ cov @ w\n",
    "    portfolio_std_dev = np.sqrt(portfolio_variance)\n",
    "\n",
    "    # Append the scalar results\n",
    "    efficient_portfolio_returns.append(expected_return.flatten()[0])\n",
    "    efficient_portfolio_risks.append(portfolio_std_dev.flatten()[0])\n",
    "\n",
    "    # Corrected .loc assignment\n",
    "    comp.loc[a, \"E(return)\"] = expected_return.flatten()[0]\n",
    "    comp.loc[a, \"vol\"] = portfolio_std_dev.flatten()[0]\n",
    "    for x in range(len(tickers)-1):\n",
    "        comp.loc[a, tickers[x]] = w[x]\n",
    "\n",
    "display(comp)\n",
    "\n",
    "#pd de var min\n",
    "min_return_index = comp[\"E(return)\"].idxmin()\n",
    "pf_var_min = comp.iloc[min_return_index]\n",
    "display(pf_var_min)"
   ]
  },
  {
   "cell_type": "code",
   "execution_count": 45,
   "metadata": {
    "colab": {
     "base_uri": "https://localhost:8080/",
     "height": 564
    },
    "executionInfo": {
     "elapsed": 444,
     "status": "ok",
     "timestamp": 1756308808780,
     "user": {
      "displayName": "Timéo Grienti",
      "userId": "11811242489653695893"
     },
     "user_tz": -120
    },
    "id": "XbFLpWH3-2o3",
    "outputId": "0b93ea45-be71-4e50-bb94-cdacc4c7d551"
   },
   "outputs": [
    {
     "data": {
      "image/png": "[encoded data removed]",
      "text/plain": [
       "<Figure size 1000x600 with 1 Axes>"
      ]
     },
     "metadata": {},
     "output_type": "display_data"
    }
   ],
   "source": [
    "# Graphique de la frontiere efficiente\n",
    "\n",
    "plt.figure(figsize=(10, 6))\n",
    "plt.scatter(efficient_portfolio_risks, efficient_portfolio_returns, marker='o', s=10)\n",
    "plt.title('Efficient Frontier')\n",
    "plt.xlabel('Portfolio Risk (Standard Deviation)')\n",
    "plt.ylabel('Portfolio Expected Return')\n",
    "plt.grid(True)\n",
    "plt.show()"
   ]
  },
  {
   "cell_type": "markdown",
   "metadata": {
    "id": "GlwdYg2BaqMx"
   },
   "source": [
    "**MARKOWITZ LONG ONLY**"
   ]
  }
 ],
 "metadata": {
  "colab": {
   "authorship_tag": "ABX9TyMrWhFP8cN2eRDWgn06P3KK",
   "mount_file_id": "1Mt9WuDbFGwnByNLk0oRF-jZUgquCVEIg",
   "provenance": []
  },
  "kernelspec": {
   "display_name": "Python 3",
   "name": "python3"
  },
  "language_info": {
   "codemirror_mode": {
    "name": "ipython",
    "version": 3
   },
   "file_extension": ".py",
   "mimetype": "text/x-python",
   "name": "python",
   "nbconvert_exporter": "python",
   "pygments_lexer": "ipython3",
   "version": "3.12.3"
  }
 },
 "nbformat": 4,
 "nbformat_minor": 0
}
